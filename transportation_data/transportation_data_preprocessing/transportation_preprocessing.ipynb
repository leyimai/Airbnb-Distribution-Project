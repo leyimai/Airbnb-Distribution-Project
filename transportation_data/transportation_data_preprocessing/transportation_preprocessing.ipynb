{
 "cells": [
  {
   "cell_type": "code",
   "execution_count": 2,
   "metadata": {},
   "outputs": [],
   "source": [
    "import pandas as pd\n",
    "import requests\n",
    "import re\n",
    "import numpy as np"
   ]
  },
  {
   "cell_type": "code",
   "execution_count": 84,
   "metadata": {},
   "outputs": [],
   "source": [
    "# Souce of Transportation Data (City OpenData)\n",
    "# DC bus - https://opendata.dc.gov/datasets/metro-stations-regional/data\n",
    "# DC subway - https://opendata.dc.gov/datasets/54018b7f06b943f2af278bbe415df1de_52/data\n",
    "\n",
    "# Bos bus https://geo-massdot.opendata.arcgis.com/datasets/2c00111621954fa08ff44283364bba70_0\n",
    "# Bos subway (MBTA Rapid Transit Stops) http://maps-massgis.opendata.arcgis.com/datasets/a9e4d01cbfae407fbf5afe67c5382fde_0\n",
    "\n",
    "# Ny bus https://data.cityofnewyork.us/Transportation/Bus-Stop-Shelters/qafz-7myz \n",
    "# NY subway https://data.cityofnewyork.us/Transportation/Subway-Stations/arq3-7z49"
   ]
  },
  {
   "cell_type": "code",
   "execution_count": 4,
   "metadata": {},
   "outputs": [],
   "source": [
    "ny_subway = pd.read_csv('NY_SUBWAY_STATION_01_13SEPT2010.csv', encoding='latin1')\n",
    "ny_bus = pd.read_csv('NY_Bus_Stop_Shelter.csv', encoding='latin1')\n",
    "bos_subway = pd.read_csv('BT_MBTA_Rapid_Transit_Stops.csv', encoding='latin1')\n",
    "bos_bus = pd.read_csv('NY_Bus_Stop_Shelter.csv', encoding='latin1')\n",
    "dc_subway = pd.read_csv('DC_Metro_Stations_Regional.csv', encoding='latin1')\n",
    "dc_bus = pd.read_csv('DC_Metro_Bus_Stops.csv', encoding='latin1')"
   ]
  },
  {
   "cell_type": "code",
   "execution_count": 34,
   "metadata": {},
   "outputs": [],
   "source": [
    "ny_subway_1 = ny_subway[['NAME','X','Y','LINE']]\n",
    "ny_subway_1['city'] = 'ny'\n",
    "bos_subway_1 = bos_subway[['STATION','X','Y','LINE']]\n",
    "bos_subway_1['city'] = 'bos'\n",
    "dc_subway_1 = dc_subway[['NAME','X','Y','LINE']]\n",
    "dc_subway_1['city'] = 'dc'"
   ]
  },
  {
   "cell_type": "code",
   "execution_count": 63,
   "metadata": {},
   "outputs": [],
   "source": [
    "ny_subway_2 = ny_subway_1.rename(columns={'NAME':'station_name','X':'station_lon','Y':'station_lat','LINE':'line'})\n",
    "bos_subway_2 = bos_subway_1.rename(columns={'STATION':'station_name','X':'station_lon','Y':'station_lat','LINE':'line'})\n",
    "dc_subway_2 = dc_subway_1.rename(columns={'NAME':'station_name','X':'station_lon','Y':'station_lat','LINE':'line'})"
   ]
  },
  {
   "cell_type": "code",
   "execution_count": 70,
   "metadata": {},
   "outputs": [],
   "source": [
    "subway = pd.concat([ny_subway_2, bos_subway_2, dc_subway_2], ignore_index=True)\n",
    "subway['type'] = 'subway'"
   ]
  },
  {
   "cell_type": "code",
   "execution_count": 78,
   "metadata": {},
   "outputs": [
    {
     "name": "stderr",
     "output_type": "stream",
     "text": [
      "/opt/anaconda3/lib/python3.7/site-packages/ipykernel_launcher.py:2: SettingWithCopyWarning: \n",
      "A value is trying to be set on a copy of a slice from a DataFrame.\n",
      "Try using .loc[row_indexer,col_indexer] = value instead\n",
      "\n",
      "See the caveats in the documentation: http://pandas.pydata.org/pandas-docs/stable/user_guide/indexing.html#returning-a-view-versus-a-copy\n",
      "  \n",
      "/opt/anaconda3/lib/python3.7/site-packages/ipykernel_launcher.py:4: SettingWithCopyWarning: \n",
      "A value is trying to be set on a copy of a slice from a DataFrame.\n",
      "Try using .loc[row_indexer,col_indexer] = value instead\n",
      "\n",
      "See the caveats in the documentation: http://pandas.pydata.org/pandas-docs/stable/user_guide/indexing.html#returning-a-view-versus-a-copy\n",
      "  after removing the cwd from sys.path.\n",
      "/opt/anaconda3/lib/python3.7/site-packages/ipykernel_launcher.py:6: SettingWithCopyWarning: \n",
      "A value is trying to be set on a copy of a slice from a DataFrame.\n",
      "Try using .loc[row_indexer,col_indexer] = value instead\n",
      "\n",
      "See the caveats in the documentation: http://pandas.pydata.org/pandas-docs/stable/user_guide/indexing.html#returning-a-view-versus-a-copy\n",
      "  \n"
     ]
    }
   ],
   "source": [
    "ny_bus_1 = ny_bus[['SHELTER_ID','LONGITUDE','LATITUDE']]\n",
    "ny_bus_1['line'] = np.NaN\n",
    "bos_bus_1 = bos_bus[['SHELTER_ID','LONGITUDE','LATITUDE']]\n",
    "bos_bus_1['line'] = np.NaN\n",
    "dc_bus_1 = dc_bus[['BSTP_GEO_ID','X','Y']]\n",
    "dc_bus_1['line'] = np.NaN"
   ]
  },
  {
   "cell_type": "code",
   "execution_count": 80,
   "metadata": {},
   "outputs": [
    {
     "name": "stderr",
     "output_type": "stream",
     "text": [
      "/opt/anaconda3/lib/python3.7/site-packages/ipykernel_launcher.py:1: SettingWithCopyWarning: \n",
      "A value is trying to be set on a copy of a slice from a DataFrame.\n",
      "Try using .loc[row_indexer,col_indexer] = value instead\n",
      "\n",
      "See the caveats in the documentation: http://pandas.pydata.org/pandas-docs/stable/user_guide/indexing.html#returning-a-view-versus-a-copy\n",
      "  \"\"\"Entry point for launching an IPython kernel.\n",
      "/opt/anaconda3/lib/python3.7/site-packages/ipykernel_launcher.py:2: SettingWithCopyWarning: \n",
      "A value is trying to be set on a copy of a slice from a DataFrame.\n",
      "Try using .loc[row_indexer,col_indexer] = value instead\n",
      "\n",
      "See the caveats in the documentation: http://pandas.pydata.org/pandas-docs/stable/user_guide/indexing.html#returning-a-view-versus-a-copy\n",
      "  \n",
      "/opt/anaconda3/lib/python3.7/site-packages/ipykernel_launcher.py:3: SettingWithCopyWarning: \n",
      "A value is trying to be set on a copy of a slice from a DataFrame.\n",
      "Try using .loc[row_indexer,col_indexer] = value instead\n",
      "\n",
      "See the caveats in the documentation: http://pandas.pydata.org/pandas-docs/stable/user_guide/indexing.html#returning-a-view-versus-a-copy\n",
      "  This is separate from the ipykernel package so we can avoid doing imports until\n"
     ]
    }
   ],
   "source": [
    "ny_bus_1['city'] = 'ny'\n",
    "bos_bus_1['city'] = 'bos'\n",
    "dc_bus_1['city'] = 'dc'"
   ]
  },
  {
   "cell_type": "code",
   "execution_count": 81,
   "metadata": {},
   "outputs": [],
   "source": [
    "ny_bus_2 = ny_bus_1.rename(columns={'SHELTER_ID':'stop_name','LONGITUDE':'stop_lon','LATITUDE':'stop_lat'})\n",
    "bos_bus_2 = bos_bus_1.rename(columns={'SHELTER_ID':'stop_name','LONGITUDE':'stop_lon','LATITUDE':'stop_lat'})\n",
    "dc_bus_2 = dc_bus_1.rename(columns={'BSTP_GEO_ID':'stop_name','X':'stop_lon','Y':'stop_lat'})"
   ]
  },
  {
   "cell_type": "code",
   "execution_count": 82,
   "metadata": {},
   "outputs": [],
   "source": [
    "bus = pd.concat([ny_bus_2, bos_bus_2, dc_bus_2], ignore_index=True)\n",
    "bus['type'] = 'bus'"
   ]
  },
  {
   "cell_type": "code",
   "execution_count": 56,
   "metadata": {},
   "outputs": [],
   "source": [
    "def get_subway_zipcode(x):\n",
    "    lat = x['station_lat']\n",
    "    lon = x['station_lon']\n",
    "    url = f'https://maps.googleapis.com/maps/api/geocode/json?latlng={lat},{lon}&key={api_key}'\n",
    "    response = requests.get(url)\n",
    "    if response.status_code == 200:\n",
    "        response_data = response.json()\n",
    "        for i in range(len(response_data['results'])):\n",
    "            address = response_data['results'][i]['formatted_address']\n",
    "            match = re.search(r'\\d{5}',address)\n",
    "            if match:\n",
    "                return int(match.group())\n",
    "        return np.NaN\n",
    "    else:\n",
    "        return None\n",
    "\n",
    "subway['zipcode'] = subway.apply(get_subway_zipcode, axis=1)\n",
    "subway['zipcode'] = subway.apply(lambda x: str(x['zipcode']).zfill(5),axis=1)\n",
    "subway.to_csv('subway_with_zipcode.csv')"
   ]
  },
  {
   "cell_type": "code",
   "execution_count": 67,
   "metadata": {},
   "outputs": [],
   "source": [
    "def get_bus_zipcode(x):\n",
    "    lat = x['stop_lat']\n",
    "    lon = x['stop_lon']\n",
    "    url = f'https://maps.googleapis.com/maps/api/geocode/json?latlng={lat},{lon}&key={api_key}'\n",
    "    response = requests.get(url)\n",
    "    if response.status_code == 200:\n",
    "        response_data = response.json()\n",
    "        for i in range(len(response_data['results'])):\n",
    "            address = response_data['results'][i]['formatted_address']\n",
    "            match = re.search(r'\\d{5}',address)\n",
    "            if match:\n",
    "                return int(match.group())\n",
    "        return np.NaN\n",
    "    else:\n",
    "        return None\n",
    "    \n",
    "bus['zipcode'] = bus.apply(get_bus_zipcode, axis=1)\n",
    "bus['zipcode'] = bus.apply(lambda x: str(x['zipcode']).zfill(5),axis=1)\n",
    "bus.to_csv('bus_with_zipcode.csv')"
   ]
  },
  {
   "cell_type": "code",
   "execution_count": 93,
   "metadata": {},
   "outputs": [
    {
     "name": "stdout",
     "output_type": "stream",
     "text": [
      "<class 'pandas.core.frame.DataFrame'>\n",
      "RangeIndex: 21822 entries, 0 to 21821\n",
      "Data columns (total 8 columns):\n",
      "Unnamed: 0    21822 non-null int64\n",
      "stop_name     21818 non-null object\n",
      "stop_lon      21822 non-null float64\n",
      "stop_lat      21822 non-null float64\n",
      "line          0 non-null float64\n",
      "city          21822 non-null object\n",
      "type          21822 non-null object\n",
      "zipcode       21822 non-null object\n",
      "dtypes: float64(3), int64(1), object(4)\n",
      "memory usage: 1.3+ MB\n"
     ]
    }
   ],
   "source": [
    "bus.info()"
   ]
  },
  {
   "cell_type": "code",
   "execution_count": 94,
   "metadata": {},
   "outputs": [
    {
     "name": "stdout",
     "output_type": "stream",
     "text": [
      "<class 'pandas.core.frame.DataFrame'>\n",
      "RangeIndex: 728 entries, 0 to 727\n",
      "Data columns (total 8 columns):\n",
      "Unnamed: 0      728 non-null int64\n",
      "station_name    728 non-null object\n",
      "station_lon     728 non-null float64\n",
      "station_lat     728 non-null float64\n",
      "line            728 non-null object\n",
      "city            728 non-null object\n",
      "type            728 non-null object\n",
      "zipcode         728 non-null object\n",
      "dtypes: float64(2), int64(1), object(5)\n",
      "memory usage: 45.6+ KB\n"
     ]
    }
   ],
   "source": [
    "subway.info()"
   ]
  },
  {
   "cell_type": "code",
   "execution_count": null,
   "metadata": {},
   "outputs": [],
   "source": []
  },
  {
   "cell_type": "code",
   "execution_count": null,
   "metadata": {},
   "outputs": [],
   "source": []
  },
  {
   "cell_type": "code",
   "execution_count": null,
   "metadata": {},
   "outputs": [],
   "source": []
  },
  {
   "cell_type": "code",
   "execution_count": null,
   "metadata": {},
   "outputs": [],
   "source": []
  },
  {
   "cell_type": "code",
   "execution_count": null,
   "metadata": {},
   "outputs": [],
   "source": []
  },
  {
   "cell_type": "code",
   "execution_count": null,
   "metadata": {},
   "outputs": [],
   "source": []
  },
  {
   "cell_type": "code",
   "execution_count": null,
   "metadata": {},
   "outputs": [],
   "source": []
  },
  {
   "cell_type": "code",
   "execution_count": null,
   "metadata": {},
   "outputs": [],
   "source": []
  },
  {
   "cell_type": "code",
   "execution_count": null,
   "metadata": {},
   "outputs": [],
   "source": []
  },
  {
   "cell_type": "code",
   "execution_count": null,
   "metadata": {},
   "outputs": [],
   "source": []
  },
  {
   "cell_type": "code",
   "execution_count": null,
   "metadata": {},
   "outputs": [],
   "source": []
  },
  {
   "cell_type": "code",
   "execution_count": null,
   "metadata": {},
   "outputs": [],
   "source": []
  },
  {
   "cell_type": "code",
   "execution_count": null,
   "metadata": {},
   "outputs": [],
   "source": []
  },
  {
   "cell_type": "code",
   "execution_count": null,
   "metadata": {},
   "outputs": [],
   "source": []
  },
  {
   "cell_type": "code",
   "execution_count": null,
   "metadata": {},
   "outputs": [],
   "source": []
  },
  {
   "cell_type": "code",
   "execution_count": null,
   "metadata": {},
   "outputs": [],
   "source": []
  },
  {
   "cell_type": "code",
   "execution_count": null,
   "metadata": {},
   "outputs": [],
   "source": []
  },
  {
   "cell_type": "code",
   "execution_count": null,
   "metadata": {},
   "outputs": [],
   "source": []
  },
  {
   "cell_type": "code",
   "execution_count": null,
   "metadata": {},
   "outputs": [],
   "source": []
  },
  {
   "cell_type": "code",
   "execution_count": null,
   "metadata": {},
   "outputs": [],
   "source": []
  },
  {
   "cell_type": "code",
   "execution_count": null,
   "metadata": {},
   "outputs": [],
   "source": []
  },
  {
   "cell_type": "code",
   "execution_count": null,
   "metadata": {},
   "outputs": [],
   "source": []
  },
  {
   "cell_type": "code",
   "execution_count": null,
   "metadata": {},
   "outputs": [],
   "source": []
  },
  {
   "cell_type": "code",
   "execution_count": null,
   "metadata": {},
   "outputs": [],
   "source": []
  },
  {
   "cell_type": "code",
   "execution_count": null,
   "metadata": {},
   "outputs": [],
   "source": []
  },
  {
   "cell_type": "code",
   "execution_count": null,
   "metadata": {},
   "outputs": [],
   "source": []
  },
  {
   "cell_type": "code",
   "execution_count": null,
   "metadata": {},
   "outputs": [],
   "source": []
  },
  {
   "cell_type": "code",
   "execution_count": null,
   "metadata": {},
   "outputs": [],
   "source": []
  },
  {
   "cell_type": "code",
   "execution_count": null,
   "metadata": {},
   "outputs": [],
   "source": []
  },
  {
   "cell_type": "code",
   "execution_count": null,
   "metadata": {},
   "outputs": [],
   "source": []
  },
  {
   "cell_type": "code",
   "execution_count": null,
   "metadata": {},
   "outputs": [],
   "source": []
  },
  {
   "cell_type": "code",
   "execution_count": null,
   "metadata": {},
   "outputs": [],
   "source": []
  },
  {
   "cell_type": "code",
   "execution_count": null,
   "metadata": {},
   "outputs": [],
   "source": []
  },
  {
   "cell_type": "code",
   "execution_count": null,
   "metadata": {},
   "outputs": [],
   "source": []
  },
  {
   "cell_type": "code",
   "execution_count": null,
   "metadata": {},
   "outputs": [],
   "source": []
  },
  {
   "cell_type": "code",
   "execution_count": null,
   "metadata": {},
   "outputs": [],
   "source": []
  },
  {
   "cell_type": "code",
   "execution_count": null,
   "metadata": {},
   "outputs": [],
   "source": []
  },
  {
   "cell_type": "code",
   "execution_count": null,
   "metadata": {},
   "outputs": [],
   "source": []
  },
  {
   "cell_type": "code",
   "execution_count": 7,
   "metadata": {},
   "outputs": [],
   "source": [
    "# with open('ny_new_york_zip_codes_geo.min.json') as fp:\n",
    "#     zip_ny = fp.read()\n",
    "# with open('ma_massachusetts_zip_codes_geo.min.json') as fp:\n",
    "#     zip_ma = fp.read()\n",
    "# with open('dc_district_of_columbia_zip_codes_geo.min.json') as fp:\n",
    "#     zip_dc = fp.read()\n",
    "# import json\n",
    "# zip_ma_json = json.loads(zip_ma)\n",
    "# zip_dc_json = json.loads(zip_dc)"
   ]
  },
  {
   "cell_type": "code",
   "execution_count": 1,
   "metadata": {},
   "outputs": [
    {
     "name": "stdout",
     "output_type": "stream",
     "text": [
      "True\n"
     ]
    }
   ],
   "source": [
    "# from shapely.geometry import Point\n",
    "# from shapely.geometry.polygon import Polygon\n",
    "\n",
    "# point = Point(0.5, 0.5)\n",
    "# polygon = Polygon([(0, 0), (0, 1), (1, 1), (1, 0)])\n",
    "# print(polygon.contains(point))\n",
    "# p2 = Point(polygon.centroid)"
   ]
  },
  {
   "cell_type": "code",
   "execution_count": 79,
   "metadata": {},
   "outputs": [
    {
     "data": {
      "text/plain": [
       "False"
      ]
     },
     "execution_count": 79,
     "metadata": {},
     "output_type": "execute_result"
    }
   ],
   "source": [
    "# lis = zip_ma_json['features'][0]['geometry']['coordinates'][0]\n",
    "# polygon = Polygon(lis)\n",
    "# point = Point([-70.610388, 41.633897])\n",
    "# polygon.contains(point)"
   ]
  },
  {
   "cell_type": "code",
   "execution_count": 52,
   "metadata": {},
   "outputs": [],
   "source": [
    "# def find_zipcode(x):\n",
    "#     lat = x['station_lat']\n",
    "#     lng = x['station_lon']\n",
    "#     url = prefix + f'?lat={lat}&lng={lng}'\n",
    "#     soup = BeautifulSoup(requests.get(url).content, 'lxml')\n",
    "#     tr = soup.find('table',id='tableInfo50').find_all('tr')\n",
    "#     zipcode = tr[4].find_all('td')[1].text.strip()\n",
    "#     print(zipcode)\n",
    "#     return zipcode"
   ]
  }
 ],
 "metadata": {
  "kernelspec": {
   "display_name": "Python 3",
   "language": "python",
   "name": "python3"
  },
  "language_info": {
   "codemirror_mode": {
    "name": "ipython",
    "version": 3
   },
   "file_extension": ".py",
   "mimetype": "text/x-python",
   "name": "python",
   "nbconvert_exporter": "python",
   "pygments_lexer": "ipython3",
   "version": "3.7.4"
  }
 },
 "nbformat": 4,
 "nbformat_minor": 2
}
